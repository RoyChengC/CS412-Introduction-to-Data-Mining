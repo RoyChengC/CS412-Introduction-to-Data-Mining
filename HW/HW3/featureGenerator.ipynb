{
 "cells": [
  {
   "cell_type": "code",
   "execution_count": null,
   "metadata": {
    "collapsed": true
   },
   "outputs": [],
   "source": [
    "def run():\n",
    "\tvoc = {} # index -> word\n",
    "\tfor line in open('vocab.txt','r'):\n",
    "\t\tst = line.strip().split('\\t')\n",
    "\t\tvoc[int(st[0])] = st[1]\n",
    "\n",
    "\tfor i in xrange(5):\n",
    "\t\tinputf = 'topic-'+str(i)+'.txt'\n",
    "\t\tvoc_t = cutVocab(inputf, voc)\n",
    "\t\toutf = 'topic-'+str(i)+'.arff'\n",
    "\t\tgenerateARFF(inputf, voc, voc_t, outf)\n",
    "\n",
    "def cutVocab(inputf, voc):\n",
    "\tvoc_t = {}\n",
    "\tvoc_count = {}\n",
    "\tfor line in open(inputf):\n",
    "\t\tst = line.strip().split(' ')\n",
    "\t\tfor s in st:\n",
    "\t\t\tif s not in voc_count:\n",
    "\t\t\t\tvoc_count[s]=1\n",
    "\t\t\telse:\n",
    "\t\t\t\tvoc_count[s]+=1\n",
    "\t\n",
    "\tcount = 0\n",
    "\tfor ind in sorted(voc.keys()):\n",
    "\t\tif str(ind) not in voc_count:\n",
    "\t\t\tcontinue\n",
    "\t\tif voc_count[str(ind)] >= 50:\n",
    "\t\t\tvoc_t[voc[ind]] = count\n",
    "\t\t\tcount += 1\n",
    "\treturn voc_t\n",
    "\n",
    "def generateARFF(inputf, voc, voc_t, outf):\n",
    "\tarff = open(outf,'w')\n",
    "\n",
    "\tnl='@relation '+inputf+'\\n\\n'\n",
    "\tarff.write(nl)\n",
    "\n",
    "\tvocsize=len(voc_t)\n",
    "\tfor w in sorted(voc_t, key=voc_t.get):\n",
    "\t\tnl = '@attribute '+w+' {0,1}'+'\\n'\n",
    "\t\tarff.write(nl)\n",
    "\n",
    "\tarff.write('\\n@data\\n')\n",
    "\n",
    "\tfor line in open(inputf,'r'):\n",
    "\t\tst = line.strip().split(' ')\n",
    "\t\tnl = ['0' for i in xrange(vocsize)]\n",
    "\t\tfor s in st:\n",
    "\t\t\tterm = voc[int(s)]\n",
    "\t\t\tif term not in voc_t:\n",
    "\t\t\t\tcontinue\n",
    "\t\t\tnl[voc_t[term]] = '1'\n",
    "\n",
    "\t\tnewl=','.join(nl)+'\\n'\n",
    "\t\tarff.write(newl)\n",
    "\n",
    "\tarff.close()\n",
    "\n",
    "run()"
   ]
  }
 ],
 "metadata": {
  "kernelspec": {
   "display_name": "Python 2",
   "language": "python",
   "name": "python2"
  },
  "language_info": {
   "codemirror_mode": {
    "name": "ipython",
    "version": 2
   },
   "file_extension": ".py",
   "mimetype": "text/x-python",
   "name": "python",
   "nbconvert_exporter": "python",
   "pygments_lexer": "ipython2",
   "version": "2.7.10"
  }
 },
 "nbformat": 4,
 "nbformat_minor": 0
}
