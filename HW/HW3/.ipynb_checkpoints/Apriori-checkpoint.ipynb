{
 "cells": [
  {
   "cell_type": "code",
   "execution_count": 109,
   "metadata": {
    "collapsed": false
   },
   "outputs": [],
   "source": [
    "import numpy as np\n",
    "import pandas as pd\n",
    "from scipy import stats\n",
    "import matplotlib.pyplot as plt\n",
    "import matplotlib.mlab as mlab\n",
    "from scipy.spatial import distance\n",
    "from sklearn import preprocessing\n",
    "from itertools import chain, combinations\n",
    "from collections import defaultdict\n",
    "from collections import Counter\n",
    "from operator import itemgetter"
   ]
  },
  {
   "cell_type": "code",
   "execution_count": 140,
   "metadata": {
    "collapsed": false
   },
   "outputs": [],
   "source": [
    "# Read in file, return transaction,itemset and generalitemset\n",
    "def readinfile(name):\n",
    "    f = open(name,\"r\")\n",
    "    temp = []\n",
    "    c1 = []\n",
    "    transaction = []\n",
    "    tt= [i.strip().split(' ') for i in f]  \n",
    "    \n",
    "    for i in tt:\n",
    "        transaction.append([int(j) for j in i])\n",
    "    \n",
    "    for i in transaction:\n",
    "        for k in i:\n",
    "            temp.append(k)\n",
    "            if not [k] in c1:\n",
    "                c1.append([k])\n",
    "    itemset = frozenset(temp)\n",
    "    c1.sort()\n",
    "    f.close()\n",
    "    return transaction,map(frozenset,c1),temp\n",
    "\n",
    "# Find frequent Itemset satisfy minsupport\n",
    "def frequentItemset(transaction,itemset,minsupport):\n",
    "    d = defaultdict(int)\n",
    "    freqitemset = []\n",
    "    support = {}\n",
    "    for item in itemset:\n",
    "        for record in transaction:\n",
    "            if item.issubset(record):\n",
    "                d[item] +=1\n",
    "    \n",
    "    for i, count in d.items():\n",
    "        if count >= minsupport:\n",
    "            freqitemset.insert(0,i)\n",
    "            support[i] = count\n",
    "    \n",
    "    return freqitemset ,support\n",
    "\n",
    "# Join candidates\n",
    "def join(freqitemset, k):\n",
    "    joint = []\n",
    "    length = len(freqitemset)\n",
    "    for i in range(length):\n",
    "        for j in range(i + 1, length):\n",
    "            L1 = list(freqitemset[i])[:k - 2]\n",
    "            L2 = list(freqitemset[j])[:k - 2]\n",
    "            L1.sort()\n",
    "            L2.sort()\n",
    "            if L1 == L2:\n",
    "                joint.append(freqitemset[i] | freqitemset[j])\n",
    "    return joint\n",
    "\n",
    "# Apriori\n",
    "def apriori(filename,minsupport):\n",
    "    (transaction,itemset,generalitemset) = readinfile(filename)\n",
    "    C1 = itemset\n",
    "    \n",
    "    (L1,support) = frequentItemset(transaction,itemset,minsupport)\n",
    "    L = [L1]\n",
    "    k = 2\n",
    "    \n",
    "    while(len(L[k-2])>0):\n",
    "        ck = join(L[k-2],k)\n",
    "        (Lk,s) = frequentItemset(transaction,ck,minsupport)\n",
    "        support.update(s)\n",
    "        L.append(Lk)\n",
    "        k +=1\n",
    "        \n",
    "    return L,support\n",
    "\n",
    "# Read in Vocabulary\n",
    "def readinvoc(name):\n",
    "    f = open(name,\"r\")\n",
    "    t= []  \n",
    "    \n",
    "    for line in f:\n",
    "        parts = line.split() \n",
    "        if len(parts) > 1:   \n",
    "            t.append(parts[1]) \n",
    "    \n",
    "    return t\n",
    "    \n",
    "# Wirte out \n",
    "def writeout(fname,n,voc):\n",
    "    kkk = map(list,sorted(n.items(), key=itemgetter(1),reverse = True))\n",
    "    freq = []\n",
    "    item = []\n",
    "\n",
    "    for i in kkk:\n",
    "        item.append(map(int,i[0]))\n",
    "        freq.append(i[1])\n",
    "        \n",
    "    f = open(fname, \"wb\")\n",
    "    \n",
    "    for i in range(len(freq)):\n",
    "        f.write(str(freq[i]) + \"\\t\")\n",
    "        for k in item[i]:\n",
    "            f.write(voc[k] + \" \")\n",
    "        f.write(\"\\n\")\n",
    "\n",
    "    # Close opend file\n",
    "    f.close()\n",
    "    "
   ]
  },
  {
   "cell_type": "code",
   "execution_count": 3,
   "metadata": {
    "collapsed": false
   },
   "outputs": [],
   "source": [
    "(transaction,itemset,generalitemset) = readinfile(\"/Users/Li/Desktop/data/topic-0.txt\")"
   ]
  },
  {
   "cell_type": "code",
   "execution_count": 84,
   "metadata": {
    "collapsed": false
   },
   "outputs": [],
   "source": [
    "m,n =apriori(\"/Users/Li/Desktop/data/topic-0.txt\",100)"
   ]
  },
  {
   "cell_type": "code",
   "execution_count": 105,
   "metadata": {
    "collapsed": false
   },
   "outputs": [],
   "source": [
    "voc = readinvoc(\"/Users/Li/Desktop/data/vocab.txt\")"
   ]
  },
  {
   "cell_type": "code",
   "execution_count": 142,
   "metadata": {
    "collapsed": false
   },
   "outputs": [],
   "source": [
    "writeout(\"/Users/Li/Desktop/data/pattern-0.txt\",n,voc)"
   ]
  },
  {
   "cell_type": "code",
   "execution_count": null,
   "metadata": {
    "collapsed": true
   },
   "outputs": [],
   "source": []
  }
 ],
 "metadata": {
  "kernelspec": {
   "display_name": "Python 2",
   "language": "python",
   "name": "python2"
  },
  "language_info": {
   "codemirror_mode": {
    "name": "ipython",
    "version": 2
   },
   "file_extension": ".py",
   "mimetype": "text/x-python",
   "name": "python",
   "nbconvert_exporter": "python",
   "pygments_lexer": "ipython2",
   "version": "2.7.10"
  }
 },
 "nbformat": 4,
 "nbformat_minor": 0
}
