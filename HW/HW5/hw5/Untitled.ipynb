{
 "cells": [
  {
   "cell_type": "code",
   "execution_count": 12,
   "metadata": {
    "collapsed": true
   },
   "outputs": [],
   "source": [
    "import pandas as pd\n",
    "import numpy as np\n",
    "import math\n",
    "import sys\n",
    "from __future__ import division\n",
    "from sklearn.metrics import precision_score"
   ]
  },
  {
   "cell_type": "code",
   "execution_count": 13,
   "metadata": {
    "collapsed": true
   },
   "outputs": [],
   "source": [
    "output = ('/Users/Li/Desktop/hw5/step1.txt')\n",
    "truth = ('/Users/Li/Desktop/hw5/truth_normalized.txt')"
   ]
  },
  {
   "cell_type": "code",
   "execution_count": 14,
   "metadata": {
    "collapsed": true
   },
   "outputs": [],
   "source": [
    "o = pd.read_csv(output,skiprows = 3,header = None)\n",
    "t = pd.read_csv(truth,skiprows = 2,header = None)"
   ]
  },
  {
   "cell_type": "code",
   "execution_count": 15,
   "metadata": {
    "collapsed": true
   },
   "outputs": [],
   "source": [
    "o = o.as_matrix()\n",
    "t = t.as_matrix()\n",
    "o = o.tolist()\n",
    "t = t.tolist()"
   ]
  },
  {
   "cell_type": "code",
   "execution_count": 16,
   "metadata": {
    "collapsed": true
   },
   "outputs": [],
   "source": [
    "precision = 0.0\n",
    "recall = 0.0"
   ]
  },
  {
   "cell_type": "code",
   "execution_count": 17,
   "metadata": {
    "collapsed": false
   },
   "outputs": [],
   "source": [
    "for x in o[:100]:\n",
    "    xtruth = [i for i in t if i[0] ==x[0] and i[1] == x[1]][0]\n",
    "    prebelow = len([i for i in o if i[2] == x[2]])\n",
    "            \n",
    "    if xtruth[2] == 0 and x[2] !=0:\n",
    "        above = 1\n",
    "        recallbelow = 1\n",
    "    elif xtruth[2] != 0 and x[2] ==0:\n",
    "        above = 1\n",
    "        prebelow = 1\n",
    "        recallbelow = len([i for i in t if i[2] == xtruth[2]]) \n",
    "    elif xtruth[2] == 0 and x[2] ==0:\n",
    "        above = 1\n",
    "        prebelow = 1\n",
    "        recallbelow = 1\n",
    "    else:\n",
    "        above = 0\n",
    "        recallbelow = len([i for i in t if i[2] == xtruth[2]])  \n",
    "        outputchain = [i for i in o if i[2] == x[2]] \n",
    "        for y in outputchain:\n",
    "            ytruth = [i for i in t if i[0] ==y[0]][0]\n",
    "            if ytruth[2] ==xtruth[2]:\n",
    "                above +=1\n",
    "                    \n",
    "    precision += above/prebelow\n",
    "    recall += above/recallbelow\n",
    "            "
   ]
  },
  {
   "cell_type": "code",
   "execution_count": null,
   "metadata": {
    "collapsed": false
   },
   "outputs": [],
   "source": [
    "precision"
   ]
  },
  {
   "cell_type": "code",
   "execution_count": null,
   "metadata": {
    "collapsed": false
   },
   "outputs": [],
   "source": [
    "recall"
   ]
  }
 ],
 "metadata": {
  "kernelspec": {
   "display_name": "Python 2",
   "language": "python",
   "name": "python2"
  },
  "language_info": {
   "codemirror_mode": {
    "name": "ipython",
    "version": 2
   },
   "file_extension": ".py",
   "mimetype": "text/x-python",
   "name": "python",
   "nbconvert_exporter": "python",
   "pygments_lexer": "ipython2",
   "version": "2.7.10"
  }
 },
 "nbformat": 4,
 "nbformat_minor": 0
}
