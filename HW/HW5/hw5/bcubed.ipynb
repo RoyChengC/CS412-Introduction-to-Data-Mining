{
 "cells": [
  {
   "cell_type": "code",
   "execution_count": 1,
   "metadata": {
    "collapsed": true
   },
   "outputs": [],
   "source": [
    "import pandas as pd\n",
    "import numpy as np\n",
    "from matplotlib import pyplot as plt\n",
    "import random\n",
    "import math\n",
    "import sys\n",
    "from __future__ import division"
   ]
  },
  {
   "cell_type": "code",
   "execution_count": 2,
   "metadata": {
    "collapsed": false
   },
   "outputs": [],
   "source": [
    "class bcubed(object):\n",
    "    def __init__(self,output,truth):\n",
    "        self.output = output\n",
    "        self.truth = truth\n",
    "    \n",
    "    def out(self):\n",
    "        o = pd.read_csv(self.output,skiprows = 3,header = None)\n",
    "        t = pd.read_csv(self.truth,skiprows = 2,header = None)\n",
    "        o = o.as_matrix()\n",
    "        t = t.as_matrix()\n",
    "        o = o.tolist()\n",
    "        t = t.tolist()\n",
    "        \n",
    "        precision = 0.0\n",
    "        recall = 0.0\n",
    "        \n",
    "        w = 0.0\n",
    "        w = 1/len(o)\n",
    "        \n",
    "        for x in o:\n",
    "            xtruth = [i for i in t if i[0] ==x[0] and i[1] == x[1]][0]\n",
    "            prebelow = len([i for i in o if i[2] == x[2]])\n",
    "            \n",
    "            if xtruth[2] == 0 and x[2] !=0:\n",
    "                above = 1\n",
    "                recallbelow = 1\n",
    "            elif xtruth[2] != 0 and x[2] ==0:\n",
    "                above = 1\n",
    "                prebelow = 1\n",
    "                recallbelow = len([i for i in t if i[2] == xtruth[2]]) \n",
    "            elif xtruth[2] == 0 and x[2] ==0:\n",
    "                above = 1\n",
    "                prebelow = 1\n",
    "                recallbelow = 1\n",
    "            else:\n",
    "                above = 0\n",
    "                recallbelow = len([i for i in t if i[2] == xtruth[2]])\n",
    "                outputchain = [i for i in o if i[2] == x[2]]\n",
    "                truthchain = [i for i in t if i[2] == xtruth[2]]\n",
    "                for y in outputchain:\n",
    "                    ytruth = [i for i in t if i[0] ==y[0]][0]\n",
    "                    if ytruth[2] ==xtruth[2]:\n",
    "                        above +=1       \n",
    "            precision += above/prebelow\n",
    "            recall += above/recallbelow\n",
    "           \n",
    "        precision = precision / len(o)\n",
    "        recall = recall/len(o)\n",
    "        \n",
    "        return precision,recall\n",
    "        #sys.stdout.write(str(precision) + \"\\n\")\n",
    "        #sys.stdout.write(str(recall))\n",
    "\n",
    "        \n",
    "        "
   ]
  },
  {
   "cell_type": "code",
   "execution_count": null,
   "metadata": {
    "collapsed": false
   },
   "outputs": [],
   "source": [
    "len(o)"
   ]
  },
  {
   "cell_type": "code",
   "execution_count": 4,
   "metadata": {
    "collapsed": false
   },
   "outputs": [],
   "source": [
    "b = bcubed(output,truth)"
   ]
  },
  {
   "cell_type": "code",
   "execution_count": 5,
   "metadata": {
    "collapsed": false
   },
   "outputs": [
    {
     "ename": "KeyboardInterrupt",
     "evalue": "",
     "output_type": "error",
     "traceback": [
      "\u001b[0;31m---------------------------------------------------------------------------\u001b[0m",
      "\u001b[0;31mKeyboardInterrupt\u001b[0m                         Traceback (most recent call last)",
      "\u001b[0;32m<ipython-input-5-a899f9a88d23>\u001b[0m in \u001b[0;36m<module>\u001b[0;34m()\u001b[0m\n\u001b[0;32m----> 1\u001b[0;31m \u001b[0mb\u001b[0m\u001b[0;34m.\u001b[0m\u001b[0mout\u001b[0m\u001b[0;34m(\u001b[0m\u001b[0;34m)\u001b[0m\u001b[0;34m\u001b[0m\u001b[0m\n\u001b[0m",
      "\u001b[0;32m<ipython-input-2-33514c092f67>\u001b[0m in \u001b[0;36mout\u001b[0;34m(self)\u001b[0m\n\u001b[1;32m     30\u001b[0m                 \u001b[0mtruthchain\u001b[0m \u001b[0;34m=\u001b[0m \u001b[0;34m[\u001b[0m\u001b[0mi\u001b[0m \u001b[0;32mfor\u001b[0m \u001b[0mi\u001b[0m \u001b[0;32min\u001b[0m \u001b[0mt\u001b[0m \u001b[0;32mif\u001b[0m \u001b[0mi\u001b[0m\u001b[0;34m[\u001b[0m\u001b[0;36m2\u001b[0m\u001b[0;34m]\u001b[0m \u001b[0;34m==\u001b[0m \u001b[0mxtruth\u001b[0m\u001b[0;34m[\u001b[0m\u001b[0;36m2\u001b[0m\u001b[0;34m]\u001b[0m\u001b[0;34m]\u001b[0m\u001b[0;34m\u001b[0m\u001b[0m\n\u001b[1;32m     31\u001b[0m                 \u001b[0;32mfor\u001b[0m \u001b[0my\u001b[0m \u001b[0;32min\u001b[0m \u001b[0moutputchain\u001b[0m\u001b[0;34m:\u001b[0m\u001b[0;34m\u001b[0m\u001b[0m\n\u001b[0;32m---> 32\u001b[0;31m                     \u001b[0mytruth\u001b[0m \u001b[0;34m=\u001b[0m \u001b[0;34m[\u001b[0m\u001b[0mi\u001b[0m \u001b[0;32mfor\u001b[0m \u001b[0mi\u001b[0m \u001b[0;32min\u001b[0m \u001b[0mt\u001b[0m \u001b[0;32mif\u001b[0m \u001b[0mi\u001b[0m\u001b[0;34m[\u001b[0m\u001b[0;36m0\u001b[0m\u001b[0;34m]\u001b[0m \u001b[0;34m==\u001b[0m\u001b[0my\u001b[0m\u001b[0;34m[\u001b[0m\u001b[0;36m0\u001b[0m\u001b[0;34m]\u001b[0m\u001b[0;34m]\u001b[0m\u001b[0;34m[\u001b[0m\u001b[0;36m0\u001b[0m\u001b[0;34m]\u001b[0m\u001b[0;34m\u001b[0m\u001b[0m\n\u001b[0m\u001b[1;32m     33\u001b[0m                     \u001b[0;32mif\u001b[0m \u001b[0mytruth\u001b[0m\u001b[0;34m[\u001b[0m\u001b[0;36m2\u001b[0m\u001b[0;34m]\u001b[0m \u001b[0;34m==\u001b[0m\u001b[0mxtruth\u001b[0m\u001b[0;34m[\u001b[0m\u001b[0;36m2\u001b[0m\u001b[0;34m]\u001b[0m\u001b[0;34m:\u001b[0m\u001b[0;34m\u001b[0m\u001b[0m\n\u001b[1;32m     34\u001b[0m                         \u001b[0mabove\u001b[0m \u001b[0;34m+=\u001b[0m\u001b[0;36m1\u001b[0m\u001b[0;34m\u001b[0m\u001b[0m\n",
      "\u001b[0;31mKeyboardInterrupt\u001b[0m: "
     ]
    }
   ],
   "source": [
    "b.out()"
   ]
  }
 ],
 "metadata": {
  "kernelspec": {
   "display_name": "Python 2",
   "language": "python",
   "name": "python2"
  },
  "language_info": {
   "codemirror_mode": {
    "name": "ipython",
    "version": 2
   },
   "file_extension": ".py",
   "mimetype": "text/x-python",
   "name": "python",
   "nbconvert_exporter": "python",
   "pygments_lexer": "ipython2",
   "version": "2.7.10"
  }
 },
 "nbformat": 4,
 "nbformat_minor": 0
}
